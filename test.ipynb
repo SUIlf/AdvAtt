{
 "cells": [
  {
   "cell_type": "code",
   "execution_count": null,
   "id": "647731c0",
   "metadata": {},
   "outputs": [],
   "source": []
  },
  {
   "cell_type": "code",
   "execution_count": 1,
   "id": "75964fe5",
   "metadata": {},
   "outputs": [
    {
     "name": "stdout",
     "output_type": "stream",
     "text": [
      "validation set\n"
     ]
    },
    {
     "name": "stderr",
     "output_type": "stream",
     "text": [
      "100%|██████████| 5000/5000 [00:01<00:00, 2690.21it/s]\n"
     ]
    },
    {
     "name": "stdout",
     "output_type": "stream",
     "text": [
      "train set\n"
     ]
    },
    {
     "name": "stderr",
     "output_type": "stream",
     "text": [
      "100%|██████████| 129395/129395 [00:38<00:00, 3322.34it/s]"
     ]
    },
    {
     "name": "stdout",
     "output_type": "stream",
     "text": [
      "completed\n"
     ]
    },
    {
     "name": "stderr",
     "output_type": "stream",
     "text": [
      "\n"
     ]
    }
   ],
   "source": [
    "\n",
    "import os\n",
    "import shutil\n",
    "from tqdm import tqdm\n",
    "\n",
    "''' https://github.com/IVRL/RobustBinarySubNet/blob/main/code/run/format_imagenet100.py\n",
    "'''\n",
    "\n",
    "def create_imagenet100():\n",
    "    '''\n",
    "    Before running this code, be sure to first download the list files:\n",
    "    https://github.com/Continvvm/continuum/releases/download/v0.1/train_100.txt\n",
    "    https://github.com/Continvvm/continuum/releases/download/v0.1/val_100.txt\n",
    "    Note that you should already downloaded and extracted the ImageNet dataset \n",
    "    before you run this code.\n",
    "    '''\n",
    "\n",
    "    # Please specify your own path of 'imagenet', 'val_100.txt', 'train_100.txt' below\n",
    "    base_dir = \"./data/imagenet\"\n",
    "    validation_label_txt = \"./data/imagenet/dataset_processing/val_100.txt\"\n",
    "    train_label_txt = \"./data/imagenet/dataset_processing/train_100.txt\"\n",
    "    # Please change the direction to your target path\n",
    "    target_folder = \"./data/imagenet100\" \n",
    "    os.makedirs(target_folder, exist_ok=True)\n",
    "    os.makedirs(os.path.join(target_folder, \"train\"), exist_ok=True)\n",
    "    os.makedirs(os.path.join(target_folder, \"val\"), exist_ok=True)\n",
    "    with open(validation_label_txt, \"r\") as f_in, open(train_label_txt, \"r\") as f_in_2:\n",
    "        validation_lines = [item.split(\" \")[0] for item in f_in.readlines()]\n",
    "        train_lines = [item.split(\" \")[0] for item in f_in_2.readlines()]\n",
    "        print(\"validation set\")\n",
    "        for item in tqdm(validation_lines):\n",
    "            tmp_folder = os.path.join(target_folder, os.path.dirname(item))\n",
    "            os.makedirs(tmp_folder, exist_ok=True)\n",
    "            shutil.copyfile(os.path.join(base_dir, item), os.path.join(target_folder, item))\n",
    "        print(\"train set\")\n",
    "        for item in tqdm(train_lines):\n",
    "            tmp_folder = os.path.join(target_folder, os.path.dirname(item))\n",
    "            os.makedirs(tmp_folder, exist_ok=True)\n",
    "            shutil.copyfile(os.path.join(base_dir, item), os.path.join(target_folder, item))\n",
    "\n",
    "    print(\"completed\")\n",
    "\n",
    "if __name__ == '__main__':\n",
    "    create_imagenet100()"
   ]
  },
  {
   "cell_type": "code",
   "execution_count": null,
   "id": "c22270cf",
   "metadata": {},
   "outputs": [],
   "source": []
  }
 ],
 "metadata": {
  "kernelspec": {
   "display_name": "tsvd",
   "language": "python",
   "name": "python3"
  },
  "language_info": {
   "codemirror_mode": {
    "name": "ipython",
    "version": 3
   },
   "file_extension": ".py",
   "mimetype": "text/x-python",
   "name": "python",
   "nbconvert_exporter": "python",
   "pygments_lexer": "ipython3",
   "version": "3.10.14"
  }
 },
 "nbformat": 4,
 "nbformat_minor": 5
}
